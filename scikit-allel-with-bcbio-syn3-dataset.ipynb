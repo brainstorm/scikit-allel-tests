{
 "cells": [
  {
   "cell_type": "markdown",
   "metadata": {},
   "source": [
    "## scikit-allel with syn3 dataset\n",
    "\n",
    "[`scikit-allel`](http://scikit-allel.readthedocs.org/en/latest/) is a Python library for exploratory analysis of large-scale genome variation data.\n",
    "\n",
    "The syn3 VCF dataset comes from the ICGC-TCGA DREAM challenge processed via the bcbio cancer pipeline."
   ]
  },
  {
   "cell_type": "code",
   "execution_count": 1,
   "metadata": {
    "collapsed": false
   },
   "outputs": [
    {
     "name": "stderr",
     "output_type": "stream",
     "text": [
      "/Users/romanvg/.anaconda/envs/py3/lib/python3.4/site-packages/matplotlib/__init__.py:872: UserWarning: axes.color_cycle is deprecated and replaced with axes.prop_cycle; please use the latter.\n",
      "  warnings.warn(self.msg_depr % (key, alt_key))\n"
     ]
    }
   ],
   "source": [
    "import numpy as np\n",
    "import allel\n",
    "import matplotlib.pyplot as plt\n",
    "import h5py\n",
    "import seaborn as sns\n",
    "import vcfnp\n",
    "sns.set_style('white')\n",
    "sns.set_style('ticks')\n",
    "%matplotlib inline"
   ]
  },
  {
   "cell_type": "code",
   "execution_count": 2,
   "metadata": {
    "collapsed": false
   },
   "outputs": [
    {
     "name": "stderr",
     "output_type": "stream",
     "text": [
      "[vcfnp] 2015-11-29 15:07:53.998383 :: caching is enabled\n",
      "[vcfnp] 2015-11-29 15:07:53.999642 :: cache file available\n",
      "[vcfnp] 2015-11-29 15:07:54.000092 :: loading from cache file syn3-ensemble.vcf.gz.vcfnp_cache/variants.npy\n"
     ]
    }
   ],
   "source": [
    "syn3_vcf = 'syn3-ensemble.vcf.gz'\n",
    "v = vcfnp.variants(syn3_vcf, cache=True).view(np.recarray)"
   ]
  },
  {
   "cell_type": "code",
   "execution_count": 5,
   "metadata": {
    "collapsed": true
   },
   "outputs": [],
   "source": [
    "# pick a chromosome to work with\n",
    "chrom = '6'"
   ]
  },
  {
   "cell_type": "code",
   "execution_count": 6,
   "metadata": {
    "collapsed": false
   },
   "outputs": [
    {
     "data": {
      "text/plain": [
       "SortedIndex((1141,), dtype=int32)\n",
       "[    49147    334919    658019 ..., 241622499 241712027 242524186]"
      ]
     },
     "execution_count": 6,
     "metadata": {},
     "output_type": "execute_result"
    }
   ],
   "source": [
    "syn3_pos = allel.SortedIndex(sorted(v['POS'][:]))\n",
    "syn3_pos"
   ]
  },
  {
   "cell_type": "markdown",
   "metadata": {},
   "source": [
    "Let's plot the density of these variants over the chromosome."
   ]
  },
  {
   "cell_type": "code",
   "execution_count": 8,
   "metadata": {
    "collapsed": false
   },
   "outputs": [
    {
     "data": {
      "image/png": "[encoded data removed]",
      "text/plain": [
       "<matplotlib.figure.Figure at 0x107d7b780>"
      ]
     },
     "metadata": {},
     "output_type": "display_data"
    }
   ],
   "source": [
    "bin_width = 100000\n",
    "bins = np.arange(0, syn3_pos.max(), bin_width)\n",
    "\n",
    "# set X coordinate as bin midpoints\n",
    "x = (bins[1:] + bins[:-1])/2\n",
    "\n",
    "# compute variant density\n",
    "h, _ = np.histogram(syn3_pos, bins=bins)\n",
    "y = h / bin_width\n",
    "\n",
    "# plot\n",
    "fig, ax = plt.subplots(figsize=(8, 2))\n",
    "sns.despine(ax=ax, offset=5)\n",
    "ax.plot(x, y)\n",
    "ax.set_xlabel('position (bp)')\n",
    "ax.set_ylabel('density (bp$^{-1}$)')\n",
    "ax.set_title('Variant density');"
   ]
  },
  {
   "cell_type": "markdown",
   "metadata": {},
   "source": [
    "Let's say I have a gene of interest. I know what position it starts and ends, and I want to find variants within the gene."
   ]
  },
  {
   "cell_type": "code",
   "execution_count": 9,
   "metadata": {
    "collapsed": false
   },
   "outputs": [
    {
     "data": {
      "text/plain": [
       "slice(34, 35, None)"
      ]
     },
     "execution_count": 9,
     "metadata": {},
     "output_type": "execute_result"
    }
   ],
   "source": [
    "start, stop = 2358158, 2431617\n",
    "loc = syn3_pos.locate_range(start, stop)\n",
    "loc"
   ]
  }
 ],
 "metadata": {
  "kernelspec": {
   "display_name": "Python 3",
   "language": "python",
   "name": "python3"
  },
  "language_info": {
   "codemirror_mode": {
    "name": "ipython",
    "version": 3
   },
   "file_extension": ".py",
   "mimetype": "text/x-python",
   "name": "python",
   "nbconvert_exporter": "python",
   "pygments_lexer": "ipython3",
   "version": "3.4.3"
  }
 },
 "nbformat": 4,
 "nbformat_minor": 0
}
